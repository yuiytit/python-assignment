{
  "nbformat": 4,
  "nbformat_minor": 0,
  "metadata": {
    "colab": {
      "provenance": []
    },
    "kernelspec": {
      "name": "python3",
      "display_name": "Python 3"
    },
    "language_info": {
      "name": "python"
    }
  },
  "cells": [
    {
      "cell_type": "markdown",
      "source": [
        "***Python assignment 1: : Exercises on Operators, Strings, and Lists***"
      ],
      "metadata": {
        "id": "M9_CpAYDfa6B"
      }
    },
    {
      "cell_type": "markdown",
      "source": [
        "Part 1 operators\n",
        "\n",
        "Exercise 1: Arithmetic Operators\n",
        "Write a Python program to perform the following operations:\n",
        "1. Add, subtract, multiply, and divide two numbers (input by the user).\n",
        "2. Use the modulus operator to find the remainder of their division.\n",
        "3. Use the exponentiation operator to raise the first number to the power of the second\n",
        "number.\n",
        "4. Perform floor division on the two numbers."
      ],
      "metadata": {
        "id": "5PoyGj_sgbK7"
      }
    },
    {
      "cell_type": "code",
      "execution_count": null,
      "metadata": {
        "id": "1ufdTSPFe32D"
      },
      "outputs": [],
      "source": [
        "# Get input from the user\n",
        "num1 = float(input(\"Enter the first number: \"))\n",
        "num2 = float(input(\"Enter the second number: \"))\n",
        "\n",
        "# Perform arithmetic operations\n",
        "addition = num1 + num2\n",
        "subtraction = num1 - num2\n",
        "multiplication = num1 * num2\n",
        "division = num1 / num2\n",
        "modulus = num1 % num2\n",
        "exponentiation = num1 ** num2\n",
        "floor_division = num1 // num2\n",
        "\n",
        "# Print the results\n",
        "print(\"Addition:\", addition)\n",
        "print(\"Subtraction:\", subtraction)\n",
        "print(\"Multiplication:\", multiplication)\n",
        "print(\"Division:\", division)\n",
        "print(\"Modulus:\", modulus)\n",
        "print(\"Exponentiation:\", exponentiation)\n",
        "print(\"Floor Division:\", floor_division)\n"
      ]
    },
    {
      "cell_type": "markdown",
      "source": [
        "Exercise 2: Comparison Operators\n",
        "\n",
        "Write a Python program that asks for two numbers and checks:\n",
        "1. If the first number is greater than the second.\n",
        "2. If the first number is equal to the second.\n",
        "3. If the first number is less than or equal to the second.\n",
        "Print the results."
      ],
      "metadata": {
        "id": "QVxA75b5g6br"
      }
    },
    {
      "cell_type": "code",
      "source": [
        "# Get input from the user\n",
        "num1 = float(input(\"Enter the first number: \"))\n",
        "num2 = float(input(\"Enter the second number: \"))\n",
        "\n",
        "# Check if the first number is greater than the second\n",
        "greater_than = num1 > num2\n",
        "print(\"Is the first number greater than the second?\", greater_than)\n",
        "\n",
        "# Check if the first number is equal to the second\n",
        "equal_to = num1 == num2\n",
        "print(\"Is the first number equal to the second?\", equal_to)\n",
        "\n",
        "# Check if the first number is less than or equal to the second\n",
        "less_than_or_equal_to = num1 <= num2\n",
        "print(\"Is the first number less than or equal to the second?\", less_than_or_equal_to)\n"
      ],
      "metadata": {
        "id": "vmrOeSlng7jB"
      },
      "execution_count": null,
      "outputs": []
    },
    {
      "cell_type": "markdown",
      "source": [
        "Exercise 3: Logical Operators\n",
        "\n",
        "Write a Python program that:\n",
        "1. Takes three boolean values (True or False) as input.\n",
        "2. Uses and, or, and not operators to return the result of combining them."
      ],
      "metadata": {
        "id": "PNaB3oQlh7db"
      }
    },
    {
      "cell_type": "code",
      "source": [
        "# Get input from the user\n",
        "bool1 = input(\"Enter the first boolean value (True or False): \").lower() == \"true\"\n",
        "bool2 = input(\"Enter the second boolean value (True or False): \").lower() == \"true\"\n",
        "bool3 = input(\"Enter the third boolean value (True or False): \").lower() == \"true\"\n",
        "\n",
        "# Use logical operators to combine the boolean values\n",
        "and_result = bool1 and bool2 and bool3\n",
        "or_result = bool1 or bool2 or bool3\n",
        "not_result = not bool1\n",
        "\n",
        "# Print the results\n",
        "print(\"Result of AND operation:\", and_result)\n",
        "print(\"Result of OR operation:\", or_result)\n",
        "print(\"Result of NOT operation on the first value:\", not_result)\n"
      ],
      "metadata": {
        "id": "y7Epl-ZXh9xo"
      },
      "execution_count": null,
      "outputs": []
    },
    {
      "cell_type": "markdown",
      "source": [
        "**Part 2: Strings**\n",
        "\n",
        "Exercise 4: String Manipulation\n",
        "1. Take a string input from the user.\n",
        "2. Display the following:\n",
        "o The length of the string.\n",
        "o The first and last character.\n",
        "o The string in reverse order.\n",
        "o The string in uppercase and lowercase.\n"
      ],
      "metadata": {
        "id": "FRrM4W_jiMdF"
      }
    },
    {
      "cell_type": "code",
      "source": [
        "# Get input from the user\n",
        "user_string = input(\"Enter a string: \")\n",
        "\n",
        "# Calculate the length of the string\n",
        "string_length = len(user_string)\n",
        "\n",
        "# Get the first and last characters\n",
        "first_char = user_string[0]\n",
        "last_char = user_string[-1]\n",
        "\n",
        "# Reverse the string\n",
        "reversed_string = user_string[::-1]\n",
        "\n",
        "# Convert the string to uppercase and lowercase\n",
        "uppercase_string = user_string.upper()\n",
        "lowercase_string = user_string.lower()\n",
        "\n",
        "# Print the results\n",
        "print(\"Length of the string:\", string_length)\n",
        "print(\"First character:\", first_char)\n",
        "print(\"Last character:\", last_char)\n",
        "print(\"Reversed string:\", reversed_string)\n",
        "print(\"Uppercase string:\", uppercase_string)\n",
        "print(\"Lowercase string:\", lowercase_string)\n"
      ],
      "metadata": {
        "id": "hvMAiQ0aiZFf"
      },
      "execution_count": null,
      "outputs": []
    },
    {
      "cell_type": "markdown",
      "source": [
        "Exercise 5: String Formatting\n",
        "\n",
        "Write a program that asks for the user's name and age, and displays the message in this format:\n",
        "Hello [Name], you are [Age] years old."
      ],
      "metadata": {
        "id": "0qPOWD6ziyRH"
      }
    },
    {
      "cell_type": "code",
      "source": [
        "# Get input from the user\n",
        "name = input(\"Enter your name: \")\n",
        "age = input(\"Enter your age: \")\n",
        "\n",
        "# Display the formatted message\n",
        "print(f\"Hello {name}, you are {age} years old.\")\n"
      ],
      "metadata": {
        "id": "vDK-ZeF2i0Ed"
      },
      "execution_count": null,
      "outputs": []
    },
    {
      "cell_type": "markdown",
      "source": [
        "Exercise 6: Substring Search\n",
        "\n",
        "Write a Python program that:\n",
        "1. Asks for a sentence input from the user.\n",
        "2. Asks for a word to search in the sentence.\n",
        "3. Outputs whether the word exists in the sentence and, if it does, at which position (index).\n"
      ],
      "metadata": {
        "id": "WG-C9CYGi78O"
      }
    },
    {
      "cell_type": "code",
      "source": [
        "# Get input from the user\n",
        "sentence = input(\"Enter a sentence: \")\n",
        "word_to_search = input(\"Enter a word to search for: \")\n",
        "\n",
        "# Check if the word exists in the sentence\n",
        "if word_to_search in sentence:\n",
        "    # Find the index of the word\n",
        "    index = sentence.find(word_to_search)\n",
        "    print(f\"The word '{word_to_search}' exists in the sentence at index {index}.\")\n",
        "else:\n",
        "    print(f\"The word '{word_to_search}' does not exist in the sentence.\")\n"
      ],
      "metadata": {
        "id": "pcxrak7gi7Ye"
      },
      "execution_count": null,
      "outputs": []
    },
    {
      "cell_type": "markdown",
      "source": [
        "**Part 3: Lists**\n",
        "\n",
        "Exercise 7: List Operations\n",
        "\n",
        "Write a Python program that:\n",
        "1. Creates a list of 5 numbers (input from the user).\n",
        "2. Displays the sum of all the numbers in the list.\n",
        "3. Finds the largest and smallest number in the list."
      ],
      "metadata": {
        "id": "TgaU5k-gjLdV"
      }
    },
    {
      "cell_type": "code",
      "source": [
        "# Create an empty list to store the numbers\n",
        "numbers = []\n",
        "\n",
        "# Get input from the user for 5 numbers\n",
        "for i in range(5):\n",
        "    number = float(input(f\"Enter number {i+1}: \"))\n",
        "    numbers.append(number)\n",
        "\n",
        "# Calculate the sum of the numbers\n",
        "sum_of_numbers = sum(numbers)\n",
        "\n",
        "# Find the largest and smallest numbers\n",
        "largest_number = max(numbers)\n",
        "smallest_number = min(numbers)\n",
        "\n",
        "# Print the results\n",
        "print(\"List of numbers:\", numbers)\n",
        "print(\"Sum of the numbers:\", sum_of_numbers)\n",
        "print(\"Largest number:\", largest_number)\n",
        "print(\"Smallest number:\", smallest_number)\n"
      ],
      "metadata": {
        "id": "gTTzgCTvjLAd"
      },
      "execution_count": null,
      "outputs": []
    },
    {
      "cell_type": "markdown",
      "source": [
        "Exercise 8: List Manipulation\n",
        "\n",
        "1. Create a list of 5 of your favorite fruits.\n",
        "2. Perform the following:\n",
        "o Add one more fruit to the list.\n",
        "o Remove the second fruit from the list.\n",
        "o Print the updated list"
      ],
      "metadata": {
        "id": "R0pfwsQmjmbf"
      }
    },
    {
      "cell_type": "code",
      "source": [
        "# Take input from the user\n",
        "fruits = input(\"Enter your favorite fruits separated by commas: \").split(',')\n",
        "\n",
        "# Strip any extra whitespace\n",
        "fruits = [fruit.strip() for fruit in fruits]\n",
        "\n",
        "# Add one more fruit\n",
        "new_fruit = input(\"Enter one more fruit to add: \")\n",
        "fruits.append(new_fruit.strip())\n",
        "\n",
        "# Remove the second fruit (if it exists)\n",
        "if len(fruits) > 1:\n",
        "    fruits.pop(1)\n",
        "\n",
        "# Print the updated list\n",
        "print(\"Updated list of fruits:\")\n",
        "print(fruits)\n"
      ],
      "metadata": {
        "id": "HiecUyX2jqMD",
        "colab": {
          "base_uri": "https://localhost:8080/"
        },
        "outputId": "de4ef373-aedf-4373-e02b-cd960d2195aa"
      },
      "execution_count": 10,
      "outputs": [
        {
          "output_type": "stream",
          "name": "stdout",
          "text": [
            "Enter your favorite fruits separated by commas: mango\n",
            "Enter one more fruit to add: tomato\n",
            "Updated list of fruits:\n",
            "['mango']\n"
          ]
        }
      ]
    },
    {
      "cell_type": "markdown",
      "source": [
        "Exercise 9: Sorting a List\n",
        "\n",
        "Write a Python program that:\n",
        "1. Asks the user to input a list of 5 numbers.\n",
        "2. Sorts the list in ascending order and displays it.\n",
        "3. Sorts the list in descending order and displays it."
      ],
      "metadata": {
        "id": "CIhW7R9akDAj"
      }
    },
    {
      "cell_type": "code",
      "source": [
        "# Take input from the user\n",
        "favorite_fruits = input(\"Enter your 5 favorite fruits separated by commas: \").split(',')\n",
        "\n",
        "# Strip any extra whitespace\n",
        "favorite_fruits = [fruit.strip() for fruit in favorite_fruits]\n",
        "\n",
        "# Ensure the list contains exactly 5 fruits\n",
        "if len(favorite_fruits) != 5:\n",
        "    print(\"Please enter exactly 5 fruits.\")\n",
        "else:\n",
        "    # Add one more fruit\n",
        "    new_fruit = input(\"Enter one more fruit to add: \")\n",
        "    favorite_fruits.append(new_fruit.strip())\n",
        "\n",
        "    # Remove the second fruit (if it exists)\n",
        "    if len(favorite_fruits) > 1:\n",
        "        favorite_fruits.pop(1)\n",
        "\n",
        "    # Print the updated list\n",
        "    print(\"Updated list of fruits:\")\n",
        "    print(favorite_fruits)\n"
      ],
      "metadata": {
        "id": "9_Oxx-T5kHM_"
      },
      "execution_count": null,
      "outputs": []
    },
    {
      "cell_type": "markdown",
      "source": [
        "Exercise 10: List Slicing\n",
        "\n",
        "Given the list numbers = [1, 2, 3, 4, 5, 6, 7, 8, 9, 10], perform the following:\n",
        "1. Print the first 5 elements.\n",
        "2. Print the last 5 elements.\n",
        "3. Print the elements from index 2 to index 7."
      ],
      "metadata": {
        "id": "G9DygOU5kR6v"
      }
    },
    {
      "cell_type": "code",
      "source": [
        "numbers = [1, 2, 3, 4, 5, 6, 7, 8, 9, 10]\n",
        "\n",
        "# Print the first 5 elements\n",
        "print(\"First 5 elements:\", numbers[:5])\n",
        "\n",
        "# Print the last 5 elements\n",
        "print(\"Last 5 elements:\", numbers[-5:])\n",
        "\n",
        "# Print the elements from index 2 to index 7\n",
        "print(\"Elements from index 2 to index 7:\", numbers[2:8])\n"
      ],
      "metadata": {
        "id": "pV4r3UVakTde"
      },
      "execution_count": null,
      "outputs": []
    },
    {
      "cell_type": "markdown",
      "source": [
        "**Bonus Challenge**\n",
        "\n",
        "Exercise 11: Nested List\n",
        "\n",
        "Write a Python program that:\n",
        "1. Takes input of 3 students' names and their respective scores in 3 subjects.\n",
        "2. Stores them in a nested list.\n",
        "3. Prints each student's name and their average score"
      ],
      "metadata": {
        "id": "dluVEAQ_kcjk"
      }
    },
    {
      "cell_type": "code",
      "source": [
        "\n",
        "student_data = []\n",
        "\n",
        "for i in range(3):\n",
        "  student_name = input(f\"Enter the name of student {i + 1}: \")\n",
        "  scores = []\n",
        "  for j in range(3):\n",
        "    score = float(input(f\"Enter score for subject {j + 1} for {student_name}: \"))\n",
        "    scores.append(score)\n",
        "  student_data.append([student_name, scores])\n",
        "\n",
        "for student in student_data:\n",
        "  name = student[0]\n",
        "  scores = student[1]\n",
        "  average_score = sum(scores) / len(scores)\n",
        "  print(f\"{name}: Average Score = {average_score}\")\n"
      ],
      "metadata": {
        "id": "BAQe8VwBkfEb"
      },
      "execution_count": null,
      "outputs": []
    }
  ]
}